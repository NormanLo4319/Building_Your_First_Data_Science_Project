{
 "cells": [
  {
   "cell_type": "markdown",
   "id": "judicial-oracle",
   "metadata": {},
   "source": [
    "# First Data Science Project\n",
    "\n",
    "\n",
    "\n",
    "\n",
    "### Bank Direct Marketing:\n",
    "- Business Objective: improve direct-marketing efficiency\n",
    "- Situation: human agents contacting customers via telephone or internet online banking to offer long-term deposits\n",
    "- Data Mining Goal: idenfity customer charateristics that affect the success of direct marketing\n",
    "\n",
    "\n",
    "## Project Pipeline:\n",
    "\n",
    "A project pipeline allows developer to build a roadmap from the development stage to the production stage. In this project, we are building the pipeline with the following steps:\n",
    "\n",
    "1. Create the application and model codes on the Dev machine\n",
    "2. Create repository on GitHub to store the codes\n",
    "3. Launch the codes on Heroku server\n",
    "\n"
   ]
  },
  {
   "cell_type": "code",
   "execution_count": null,
   "id": "molecular-fifty",
   "metadata": {},
   "outputs": [],
   "source": []
  },
  {
   "cell_type": "code",
   "execution_count": null,
   "id": "reflected-accountability",
   "metadata": {},
   "outputs": [],
   "source": [
    "# Import dependencies\n",
    "import numpy as np\n",
    "import pandas as pd\n",
    "from sklearn.preprocessing import StandardScaler\n",
    "from sklearn.preprocessing import OneHotEncoder\n",
    "from sklearn.model_selection import train_test_split\n",
    "from sklearn.ensemble import RandomForestClassifier"
   ]
  },
  {
   "cell_type": "code",
   "execution_count": null,
   "id": "chronic-shock",
   "metadata": {},
   "outputs": [],
   "source": [
    "# Load data\n",
    "df = pd.read_csv(\"./data/bank.csv\", header = None)\n",
    "df.head()"
   ]
  },
  {
   "cell_type": "code",
   "execution_count": null,
   "id": "soviet-arrow",
   "metadata": {},
   "outputs": [],
   "source": [
    "# Drop campaign related columns\n",
    "df.drop(df.iloc[:, 8:16], inplace = True, axis = 1)\n",
    "X = df.iloc[:, :-1].values\n",
    "y = df.iloc[:, -1].values"
   ]
  },
  {
   "cell_type": "code",
   "execution_count": null,
   "id": "incorporated-certificate",
   "metadata": {},
   "outputs": [],
   "source": [
    "# Extract numeric features \n",
    "numeric_data = df.iloc[:, [0, 5]].values\n",
    "numeric_df = pd.DataFrame(numeric_data, dtype = object)\n",
    "numeric_df.columns = ['age', 'balance']"
   ]
  },
  {
   "cell_type": "code",
   "execution_count": null,
   "id": "pediatric-surface",
   "metadata": {},
   "outputs": [],
   "source": [
    "# Standard scaling age\n",
    "age_std_scale = StandardScaler()\n",
    "numeric_df['age'] = age_std_scale.fit_transform(numeric_df[['age']])\n",
    "#standard scaling balance\n",
    "balance_std_scale = StandardScaler()\n",
    "numeric_df['balance'] = balance_std_scale.fit_transform(numeric_df[['balance']])"
   ]
  },
  {
   "cell_type": "code",
   "execution_count": null,
   "id": "forced-momentum",
   "metadata": {},
   "outputs": [],
   "source": [
    "# Extract categoric features\n",
    "X_categoric = df.iloc[:, [1,2,3,4,6,7]].values"
   ]
  },
  {
   "cell_type": "code",
   "execution_count": null,
   "id": "distinguished-sewing",
   "metadata": {},
   "outputs": [],
   "source": [
    "# One hot encoding for categorical data\n",
    "ohe = OneHotEncoder()\n",
    "categoric_data = ohe.fit_transform(X_categoric).toarray()\n",
    "categoric_df = pd.DataFrame(categoric_data)\n",
    "categoric_df.columns = ohe.get_feature_names()"
   ]
  },
  {
   "cell_type": "code",
   "execution_count": null,
   "id": "weekly-bench",
   "metadata": {},
   "outputs": [],
   "source": [
    "# Combine numeric and categorix\n",
    "X_final = pd.concat([numeric_df, categoric_df], axis = 1)"
   ]
  },
  {
   "cell_type": "code",
   "execution_count": null,
   "id": "traditional-crowd",
   "metadata": {},
   "outputs": [],
   "source": [
    "# Train model\n",
    "rfc = RandomForestClassifier(n_estimators = 100)\n",
    "rfc.fit(X_final, y)"
   ]
  },
  {
   "cell_type": "code",
   "execution_count": null,
   "id": "joint-cocktail",
   "metadata": {},
   "outputs": [],
   "source": []
  },
  {
   "cell_type": "code",
   "execution_count": null,
   "id": "white-hammer",
   "metadata": {},
   "outputs": [],
   "source": []
  }
 ],
 "metadata": {
  "hide_input": false,
  "kernelspec": {
   "display_name": "Python 3",
   "language": "python",
   "name": "python3"
  },
  "language_info": {
   "codemirror_mode": {
    "name": "ipython",
    "version": 3
   },
   "file_extension": ".py",
   "mimetype": "text/x-python",
   "name": "python",
   "nbconvert_exporter": "python",
   "pygments_lexer": "ipython3",
   "version": "3.7.1"
  },
  "nbTranslate": {
   "displayLangs": [
    "*"
   ],
   "hotkey": "alt-t",
   "langInMainMenu": true,
   "sourceLang": "en",
   "targetLang": "fr",
   "useGoogleTranslate": true
  },
  "varInspector": {
   "cols": {
    "lenName": 16,
    "lenType": 16,
    "lenVar": 40
   },
   "kernels_config": {
    "python": {
     "delete_cmd_postfix": "",
     "delete_cmd_prefix": "del ",
     "library": "var_list.py",
     "varRefreshCmd": "print(var_dic_list())"
    },
    "r": {
     "delete_cmd_postfix": ") ",
     "delete_cmd_prefix": "rm(",
     "library": "var_list.r",
     "varRefreshCmd": "cat(var_dic_list()) "
    }
   },
   "types_to_exclude": [
    "module",
    "function",
    "builtin_function_or_method",
    "instance",
    "_Feature"
   ],
   "window_display": false
  }
 },
 "nbformat": 4,
 "nbformat_minor": 5
}
